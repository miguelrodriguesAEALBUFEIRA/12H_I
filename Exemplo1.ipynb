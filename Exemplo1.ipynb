{
 "cells": [
  {
   "cell_type": "markdown",
   "metadata": {},
   "source": [
    "# Utilização do Python\n",
    "## Ciências Socias e Humanas\n",
    "Estes exemplos pretendem ilustrar as diversas possibilidades do Python."
   ]
  },
  {
   "cell_type": "code",
   "execution_count": 2,
   "metadata": {},
   "outputs": [],
   "source": [
    "import pandas as pd\n",
    "import matplotlib.pyplot as plt"
   ]
  },
  {
   "cell_type": "code",
   "execution_count": 4,
   "metadata": {},
   "outputs": [
    {
     "data": {
      "text/html": [
       "<div>\n",
       "<style scoped>\n",
       "    .dataframe tbody tr th:only-of-type {\n",
       "        vertical-align: middle;\n",
       "    }\n",
       "\n",
       "    .dataframe tbody tr th {\n",
       "        vertical-align: top;\n",
       "    }\n",
       "\n",
       "    .dataframe thead th {\n",
       "        text-align: right;\n",
       "    }\n",
       "</style>\n",
       "<table border=\"1\" class=\"dataframe\">\n",
       "  <thead>\n",
       "    <tr style=\"text-align: right;\">\n",
       "      <th></th>\n",
       "      <th>pais</th>\n",
       "      <th>IDH</th>\n",
       "      <th>Índice Gini</th>\n",
       "      <th>GII</th>\n",
       "      <th>Poverty Rate</th>\n",
       "    </tr>\n",
       "  </thead>\n",
       "  <tbody>\n",
       "    <tr>\n",
       "      <th>0</th>\n",
       "      <td>Norway</td>\n",
       "      <td>0.957</td>\n",
       "      <td>27.6</td>\n",
       "      <td>0.045</td>\n",
       "      <td>0.096</td>\n",
       "    </tr>\n",
       "    <tr>\n",
       "      <th>1</th>\n",
       "      <td>Germany</td>\n",
       "      <td>0.947</td>\n",
       "      <td>31.9</td>\n",
       "      <td>0.084</td>\n",
       "      <td>0.102</td>\n",
       "    </tr>\n",
       "    <tr>\n",
       "      <th>2</th>\n",
       "      <td>Denmark</td>\n",
       "      <td>0.940</td>\n",
       "      <td>28.2</td>\n",
       "      <td>0.038</td>\n",
       "      <td>0.075</td>\n",
       "    </tr>\n",
       "    <tr>\n",
       "      <th>3</th>\n",
       "      <td>United States</td>\n",
       "      <td>0.926</td>\n",
       "      <td>41.4</td>\n",
       "      <td>0.204</td>\n",
       "      <td>0.154</td>\n",
       "    </tr>\n",
       "    <tr>\n",
       "      <th>4</th>\n",
       "      <td>Spain</td>\n",
       "      <td>0.904</td>\n",
       "      <td>34.7</td>\n",
       "      <td>0.070</td>\n",
       "      <td>0.138</td>\n",
       "    </tr>\n",
       "    <tr>\n",
       "      <th>5</th>\n",
       "      <td>Portugal</td>\n",
       "      <td>0.864</td>\n",
       "      <td>33.5</td>\n",
       "      <td>0.075</td>\n",
       "      <td>0.103</td>\n",
       "    </tr>\n",
       "    <tr>\n",
       "      <th>6</th>\n",
       "      <td>Bulgaria</td>\n",
       "      <td>0.816</td>\n",
       "      <td>41.3</td>\n",
       "      <td>0.206</td>\n",
       "      <td>0.124</td>\n",
       "    </tr>\n",
       "  </tbody>\n",
       "</table>\n",
       "</div>"
      ],
      "text/plain": [
       "            pais    IDH  Índice Gini    GII  Poverty Rate\n",
       "0         Norway  0.957         27.6  0.045         0.096\n",
       "1        Germany  0.947         31.9  0.084         0.102\n",
       "2        Denmark  0.940         28.2  0.038         0.075\n",
       "3  United States  0.926         41.4  0.204         0.154\n",
       "4          Spain  0.904         34.7  0.070         0.138\n",
       "5       Portugal  0.864         33.5  0.075         0.103\n",
       "6       Bulgaria  0.816         41.3  0.206         0.124"
      ]
     },
     "execution_count": 4,
     "metadata": {},
     "output_type": "execute_result"
    }
   ],
   "source": [
    "# IDH dados de 2019\n",
    "# IDH: dados obtidos em http://hdr.undp.org/en/data\n",
    "# Índice de Gini com dados mais recentes.\n",
    "# Índice de Gini: dados obtidos em https://data.worldbank.org/indicator/SI.POV.GINI?end=2019&most_recent_year_desc=false&start=1967&view=chart\n",
    "# Gender Inequality Index (GII). Dados 2019\n",
    "# GII: dados de https://en.wikipedia.org/wiki/Gender_Inequality_Index\n",
    "# Poverty rate (18-65 years old). Dados 2019\n",
    "# Poverty rate (18-65): obtido em https://data.oecd.org/inequality/poverty-rate.htm\n",
    "dados = pd.DataFrame({'pais':['Norway','Germany','Denmark', 'United States','Spain','Portugal', 'Bulgaria'],\n",
    "                          'IDH':[0.957,0.947, 0.940, 0.926, 0.904, 0.864, 0.816], \n",
    "                          'Índice Gini':[27.6, 31.9, 28.2, 41.4, 34.7, 33.5, 41.3],\n",
    "                          'GII': [0.045, 0.084, 0.038, 0.204, 0.070, 0.075, 0.206],\n",
    "                          'Poverty Rate': [0.096, 0.102, 0.075, 0.154, 0.138, 0.103, 0.124]\n",
    "})\n",
    "dados"
   ]
  },
  {
   "cell_type": "code",
   "execution_count": 5,
   "metadata": {},
   "outputs": [
    {
     "data": {
      "image/png": "[encoded data removed]",
      "text/plain": [
       "<Figure size 432x288 with 1 Axes>"
      ]
     },
     "metadata": {
      "needs_background": "light"
     },
     "output_type": "display_data"
    }
   ],
   "source": [
    "plt.bar(dados.pais, dados.IDH, label='IDH', color='red')\n",
    "plt.xlabel('País')\n",
    "plt.xticks(rotation=45, ha='right')\n",
    "plt.ylabel('Índice IDH')\n",
    "plt.title('Comparação entre países')\n",
    "plt.legend(loc='center left', bbox_to_anchor=(1.1, 0.5), labelspacing=3)\n",
    "plt.grid(color='#95a5a6', linestyle='--', linewidth=2, axis='y', alpha=0.7)\n",
    "plt.ylim([0.75,1])\n",
    "plt.show()"
   ]
  },
  {
   "cell_type": "code",
   "execution_count": 6,
   "metadata": {},
   "outputs": [
    {
     "data": {
      "image/png": "[encoded data removed]",
      "text/plain": [
       "<Figure size 432x288 with 1 Axes>"
      ]
     },
     "metadata": {
      "needs_background": "light"
     },
     "output_type": "display_data"
    }
   ],
   "source": [
    "plt.scatter(dados.IDH, dados['Índice Gini'], s=60, label='Países', color='Brown', marker='^')\n",
    "plt.xlabel('IDH')\n",
    "plt.xticks(rotation=45, ha='right')\n",
    "plt.ylabel('Índice de Gini')\n",
    "plt.title('Comparação entre IDH e Índice de Gini')\n",
    "plt.legend(loc='center left', bbox_to_anchor=(1.1, 0.5), labelspacing=3)\n",
    "plt.grid(color='#95a5a6', linestyle='--', linewidth=2, axis='y', alpha=0.7)\n",
    "plt.show()"
   ]
  },
  {
   "cell_type": "code",
   "execution_count": 12,
   "metadata": {},
   "outputs": [
    {
     "data": {
      "image/png": "[encoded data removed]",
      "text/plain": [
       "<Figure size 432x288 with 1 Axes>"
      ]
     },
     "metadata": {
      "needs_background": "light"
     },
     "output_type": "display_data"
    }
   ],
   "source": [
    "plt.scatter(dados.GII, dados['Índice Gini'], s=60, label='Países', color='Blue', marker='o')\n",
    "plt.xlabel('GII')\n",
    "plt.xticks(rotation=45, ha='right')\n",
    "plt.ylabel('Índice de Gini')\n",
    "plt.title('Comparação entre GII e Índice de Gini')\n",
    "plt.legend(loc='center left', bbox_to_anchor=(1.1, 0.5), labelspacing=3)\n",
    "plt.grid(color='#95a5a6', linestyle='--', linewidth=2, axis='y', alpha=0.7)\n",
    "plt.show()"
   ]
  },
  {
   "cell_type": "code",
   "execution_count": 4,
   "metadata": {},
   "outputs": [
    {
     "data": {
      "text/latex": [
       "$\\displaystyle 4 + 3 = 7$"
      ],
      "text/plain": [
       "<IPython.core.display.Math object>"
      ]
     },
     "metadata": {},
     "output_type": "display_data"
    }
   ],
   "source": [
    "from IPython.display import display, Math, Latex\n",
    "display(Math('4 + 3 = 7'))"
   ]
  },
  {
   "cell_type": "code",
   "execution_count": 5,
   "metadata": {},
   "outputs": [
    {
     "data": {
      "text/latex": [
       "$\\displaystyle F(k) = \\int_{-\\infty}^{\\infty} f(x) e^{2\\pi i k} dx$"
      ],
      "text/plain": [
       "<IPython.core.display.Math object>"
      ]
     },
     "metadata": {},
     "output_type": "display_data"
    }
   ],
   "source": [
    "display(Math(r'F(k) = \\int_{-\\infty}^{\\infty} f(x) e^{2\\pi i k} dx'))"
   ]
  },
  {
   "cell_type": "code",
   "execution_count": 7,
   "metadata": {},
   "outputs": [
    {
     "name": "stdout",
     "output_type": "stream",
     "text": [
      "Digite um número (ou 'pronto' para sair): 4\n",
      "Digite um número (ou 'pronto' para sair): 6\n",
      "Digite um número (ou 'pronto' para sair): 7\n",
      "Digite um número (ou 'pronto' para sair): pront\n",
      "Erro: entrada inválida, por favor insira um número válido.\n",
      "Digite um número (ou 'pronto' para sair): pronto\n",
      "A soma dos números digitados é: 17.0\n",
      "A quantidade de números digitados é: 3\n",
      "A média dos números digitados é: 5.666666666666667\n"
     ]
    }
   ],
   "source": [
    "soma = 0\n",
    "qtd_num = 0\n",
    "\n",
    "while True:\n",
    "    entrada = input(\"Digite um número (ou 'pronto' para sair): \")\n",
    "\n",
    "    # Se o usuário digitar \"pronto\" o programa sai do laço\n",
    "    if entrada == \"pronto\":\n",
    "        break\n",
    "\n",
    "    # tenta converter a entrada para um número\n",
    "    try:\n",
    "        num = float(entrada)\n",
    "    except ValueError:\n",
    "        print(\"Erro: entrada inválida, por favor insira um número válido.\")\n",
    "        continue # Pula para o próximo número se ocorrer um erro\n",
    "\n",
    "    # Se a conversão para número foi bem sucedida, atualiza as variáveis\n",
    "    soma += num\n",
    "    qtd_num += 1\n",
    "\n",
    "# Verifica se foram digitados números antes de mostrar a soma e a média\n",
    "if qtd_num == 0:\n",
    "    print(\"Nenhum número foi digitado.\")\n",
    "else:\n",
    "    media = soma / qtd_num\n",
    "    print(\"A soma dos números digitados é:\", soma)\n",
    "    print(\"A quantidade de números digitados é:\", qtd_num)\n",
    "    print(\"A média dos números digitados é:\", media)"
   ]
  },
  {
   "cell_type": "code",
   "execution_count": null,
   "metadata": {},
   "outputs": [],
   "source": []
  }
 ],
 "metadata": {
  "kernelspec": {
   "display_name": "Python 3",
   "language": "python",
   "name": "python3"
  },
  "language_info": {
   "codemirror_mode": {
    "name": "ipython",
    "version": 3
   },
   "file_extension": ".py",
   "mimetype": "text/x-python",
   "name": "python",
   "nbconvert_exporter": "python",
   "pygments_lexer": "ipython3",
   "version": "3.8.5"
  },
  "name": "Exemplo1.ipynb"
 },
 "nbformat": 4,
 "nbformat_minor": 4
}
